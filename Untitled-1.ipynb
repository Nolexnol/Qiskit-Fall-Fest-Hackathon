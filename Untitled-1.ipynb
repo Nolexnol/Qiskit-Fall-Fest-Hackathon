{
 "cells": [
  {
   "cell_type": "code",
   "execution_count": 90,
   "id": "abcd8674",
   "metadata": {},
   "outputs": [],
   "source": [
    "import numpy as np\n",
    "\n",
    "from quantem.utils import (\n",
    "    convert_to_PCS_circ_largest_clifford,\n",
    "    get_VF2_layouts,\n",
    ")\n",
    "from quantem.pauli_checks import postselect_counts\n",
    "\n",
    "from qiskit.circuit import QuantumCircuit"
   ]
  },
  {
   "cell_type": "code",
   "execution_count": 91,
   "id": "84ab41d9",
   "metadata": {},
   "outputs": [],
   "source": [
    "def random(num):\n",
    "    qc = QuantumCircuit(num)\n",
    "    for i in range(num):\n",
    "        qc.h(i)\n",
    "    return qc\n",
    "\n"
   ]
  },
  {
   "cell_type": "code",
   "execution_count": 92,
   "id": "88ab2a25",
   "metadata": {},
   "outputs": [
    {
     "name": "stdout",
     "output_type": "stream",
     "text": [
      "10\n"
     ]
    }
   ],
   "source": [
    "def random_num():\n",
    "    num = int(input(\"Enter the number of random numbers you want to generate: \"))\n",
    "    return num\n",
    "shots = random_num()\n",
    "print(shots)"
   ]
  },
  {
   "cell_type": "code",
   "execution_count": 93,
   "id": "5af6a864",
   "metadata": {},
   "outputs": [
    {
     "data": {
      "image/png": "[encoded data removed]",
      "text/plain": [
       "<Figure size 203.885x367.889 with 1 Axes>"
      ]
     },
     "execution_count": 93,
     "metadata": {},
     "output_type": "execute_result"
    }
   ],
   "source": [
    "circ = random(4)\n",
    "circ.draw('mpl')"
   ]
  },
  {
   "cell_type": "code",
   "execution_count": 94,
   "id": "d284dd53",
   "metadata": {},
   "outputs": [
    {
     "data": {
      "image/png": "[encoded data removed]",
      "text/plain": [
       "<Figure size 122.331x220.733 with 1 Axes>"
      ]
     },
     "execution_count": 94,
     "metadata": {},
     "output_type": "execute_result"
    }
   ],
   "source": [
    "from qiskit_addon_utils.slicing import combine_slices, slice_by_depth\n",
    "\n",
    "slices = slice_by_depth(circ, 1)\n",
    "combined_slices = combine_slices(slices, include_barriers=True)\n",
    "combined_slices.draw(\"mpl\", scale=0.6)"
   ]
  },
  {
   "cell_type": "code",
   "execution_count": 95,
   "id": "324a0c56",
   "metadata": {},
   "outputs": [
    {
     "name": "stdout",
     "output_type": "stream",
     "text": [
      "Largest Clifford block is from slice 0 to 0.\n",
      "Found check 1: +1IIIZ, +1IIIX\n",
      "Found check 2: +1IIIX, +1IIIZ\n",
      "Required number of checks found.\n",
      "p1_list =  [['+1IIIZ', '+1IIIX'], ['+1IIIX', '+1IIIZ']]\n",
      "['+1', '+1']\n"
     ]
    },
    {
     "data": {
      "image/png": "[encoded data removed]",
      "text/plain": [
       "<Figure size 573.831x321.067 with 1 Axes>"
      ]
     },
     "execution_count": 95,
     "metadata": {},
     "output_type": "execute_result"
    }
   ],
   "source": [
    "num_qubits = 4\n",
    "num_checks = 2\n",
    "\n",
    "sign_list, pcs_circ = convert_to_PCS_circ_largest_clifford(circ, num_qubits, num_checks)\n",
    "print(sign_list)\n",
    "pcs_circ.draw(\"mpl\", scale=0.6, fold=-1)"
   ]
  },
  {
   "cell_type": "code",
   "execution_count": 96,
   "id": "2c9c60d4",
   "metadata": {},
   "outputs": [],
   "source": [
    "from qiskit_ibm_runtime.fake_provider import FakeSherbrooke\n",
    "\n",
    "fake_backend = FakeSherbrooke()\n",
    "fake_coupling_map = fake_backend.configuration().coupling_map"
   ]
  },
  {
   "cell_type": "code",
   "execution_count": 97,
   "id": "67aae7d5",
   "metadata": {},
   "outputs": [],
   "source": [
    "VF2_mapping_ranges, small_qc = get_VF2_layouts(circ, fake_backend)\n",
    "\n",
    "mapping_range = VF2_mapping_ranges[0]\n"
   ]
  },
  {
   "cell_type": "code",
   "execution_count": 98,
   "id": "06145136",
   "metadata": {},
   "outputs": [],
   "source": [
    "pcs_VF2_mapping_ranges, pcs_small_qc = get_VF2_layouts(pcs_circ, fake_backend)\n",
    "\n",
    "pcs_mapping_range = pcs_VF2_mapping_ranges[0]\n"
   ]
  },
  {
   "cell_type": "code",
   "execution_count": 99,
   "id": "e729b918",
   "metadata": {},
   "outputs": [],
   "source": [
    "import qiskit_aer.noise as noise\n",
    "from qiskit_aer.primitives import SamplerV2 as sampler\n",
    "\n",
    "basis_gates = fake_backend.configuration().basis_gates\n",
    "noise_model = noise.NoiseModel.from_backend(fake_backend)\n",
    "\n",
    "noisy_sampler = sampler(options={\"backend_options\": {\"noise_model\": noise_model}})\n",
    "ideal_sampler = sampler()"
   ]
  },
  {
   "cell_type": "code",
   "execution_count": 100,
   "id": "24c65346",
   "metadata": {},
   "outputs": [
    {
     "name": "stdout",
     "output_type": "stream",
     "text": [
      "{'001010': 2, '000100': 1, '001100': 1, '001001': 1, '001011': 1, '001110': 1, '000000': 2, '000010': 1}\n",
      "{'1010': 2, '0100': 1, '1100': 1, '1001': 1, '1011': 1, '1110': 1, '0000': 2, '0010': 1}\n"
     ]
    }
   ],
   "source": [
    "from qiskit import transpile\n",
    "\n",
    "circ.measure_all()\n",
    "pcs_circ.measure_all()\n",
    "\n",
    "pcs_circ_transpiled = transpile(\n",
    "    pcs_circ,\n",
    "    optimization_level=1,\n",
    ")\n",
    "circ_transpiled = transpile(\n",
    "    circ, basis_gates=basis_gates, initial_layout=mapping_range, optimization_level=1\n",
    ")\n",
    "\n",
    "noisy_job_result = noisy_sampler.run(\n",
    "    [pcs_circ_transpiled, circ_transpiled], shots=shots\n",
    ").result()\n",
    "\n",
    "pcs_circ_counts = noisy_job_result[0].data.meas.get_counts()\n",
    "noisy_circ_counts = noisy_job_result[1].data.meas.get_counts()\n",
    "\n",
    "ideal_job_result = ideal_sampler.run([circ], shots=shots).result()\n",
    "ideal_circ_counts = ideal_job_result[0].data.meas.get_counts()\n",
    "postselected_counts = postselect_counts(pcs_circ_counts, sign_list, num_ancillas=2)\n",
    "\n",
    "print(pcs_circ_counts)\n",
    "print(postselected_counts)"
   ]
  },
  {
   "cell_type": "code",
   "execution_count": 101,
   "id": "582008e2",
   "metadata": {},
   "outputs": [
    {
     "name": "stdout",
     "output_type": "stream",
     "text": [
      "5\n",
      "2\n",
      "3\n",
      "9\n",
      "13\n",
      "7\n",
      "0\n",
      "4\n"
     ]
    }
   ],
   "source": [
    "for i in range(shots):\n",
    "    try:\n",
    "        val = list(postselected_counts.keys())[i]\n",
    "    except Exception:\n",
    "        break\n",
    "    val = val[::-1]\n",
    "    number = int(val,2)\n",
    "    print(number)"
   ]
  }
 ],
 "metadata": {
  "kernelspec": {
   "display_name": "qiskit_env",
   "language": "python",
   "name": "python3"
  },
  "language_info": {
   "codemirror_mode": {
    "name": "ipython",
    "version": 3
   },
   "file_extension": ".py",
   "mimetype": "text/x-python",
   "name": "python",
   "nbconvert_exporter": "python",
   "pygments_lexer": "ipython3",
   "version": "3.13.5"
  }
 },
 "nbformat": 4,
 "nbformat_minor": 5
}
